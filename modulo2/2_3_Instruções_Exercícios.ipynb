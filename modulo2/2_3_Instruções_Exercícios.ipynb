{
  "nbformat": 4,
  "nbformat_minor": 0,
  "metadata": {
    "colab": {
      "provenance": []
    },
    "kernelspec": {
      "name": "python3",
      "display_name": "Python 3"
    },
    "language_info": {
      "name": "python"
    }
  },
  "cells": [
    {
      "cell_type": "markdown",
      "source": [
        "# Módulo 2\n",
        "\n",
        "## 2.3 Instruções e Expressões\n",
        "\n",
        "### Q1\n",
        "\n",
        "Faça um programa que armazene o valor de 20 reais de salário por hora de um trabalhador, e o número de 40 horas trabalhadas na semana. Com essas informações, calcule e imprima:\n",
        "- Salário semanal bruto\n",
        "- Valor descontado por semana INSS (10% do bruto)\n",
        "- Valor descontado por semana pelo sindicato (5% do bruto)\n",
        "- Salário semanal líquido (Bruto - Descontos)"
      ],
      "metadata": {
        "id": "1pCTdOHonv5f"
      }
    },
    {
      "cell_type": "code",
      "execution_count": 2,
      "metadata": {
        "id": "hVbX0I97nj6M",
        "colab": {
          "base_uri": "https://localhost:8080/"
        },
        "outputId": "db6de160-8bf2-4521-c682-efb034a2ffb6"
      },
      "outputs": [
        {
          "output_type": "stream",
          "name": "stdout",
          "text": [
            "680.0\n"
          ]
        }
      ],
      "source": [
        "salario_hora  = 20\n",
        "horas_trabalhadas = 40\n",
        "salario_bruto = salario_hora * horas_trabalhadas\n",
        "inss = salario_bruto * 0.1\n",
        "sindicato = salario_bruto * 0.05\n",
        "salario_liquido = salario_bruto - inss - sindicato\n",
        "print(salario_liquido)"
      ]
    },
    {
      "cell_type": "markdown",
      "source": [
        "### Q2\n",
        "\n",
        "Altere o programa anterior para a partir dos valores de horas trabalhadas por semana e salário por hora, calcular **em somente duas instruções**:\n",
        "- Salário semanal bruto\n",
        "- Salário semanal líquido com todos os descontos. Para a segunda instrução, realize todos os cálculos aritméticos em uma expressão composta.\n"
      ],
      "metadata": {
        "id": "pIxKX9J2oGZ1"
      }
    },
    {
      "cell_type": "code",
      "source": [
        "salario_hora  = 20\n",
        "horas_trabalhadas = 40\n",
        "salario_bruto = salario_hora * horas_trabalhadas\n",
        "salario_liquido = salario_bruto - salario_bruto * 0.1 - salario_bruto * 0.05\n",
        "print(salario_liquido)"
      ],
      "metadata": {
        "id": "pAHw9Xf9oGoi",
        "colab": {
          "base_uri": "https://localhost:8080/"
        },
        "outputId": "13977034-4c68-4e3a-dae4-26db2c2d0616"
      },
      "execution_count": 3,
      "outputs": [
        {
          "output_type": "stream",
          "name": "stdout",
          "text": [
            "680.0\n"
          ]
        }
      ]
    },
    {
      "cell_type": "markdown",
      "source": [
        "### Q3\n",
        "\n",
        "Você está desenvolvendo um software de conversão de moeda e precisa calcular o valor equivalente em yuan chinês a partir de uma quantia em real. A taxa de câmbio é de 0.69 BRL (real) para 1 CNY (yuan). Escreva um programa que define em uma variável uma quantia em reais (BRL) e calcula o valor equivalente em yuan (CNY). Imprima o resultado."
      ],
      "metadata": {
        "id": "m8tlHRuWpBOB"
      }
    },
    {
      "cell_type": "code",
      "source": [
        "taxa_cambio = 0.69\n",
        "quantia_brl = 100\n",
        "quantia_cny = quantia_brl / taxa_cambio\n",
        "print(quantia_cny)"
      ],
      "metadata": {
        "id": "2bPw7uF6oeL9",
        "colab": {
          "base_uri": "https://localhost:8080/"
        },
        "outputId": "f32b87e0-13a5-4c33-9e77-9fb411277761"
      },
      "execution_count": 5,
      "outputs": [
        {
          "output_type": "stream",
          "name": "stdout",
          "text": [
            "144.92753623188406\n"
          ]
        }
      ]
    },
    {
      "cell_type": "markdown",
      "source": [
        "### Q4\n",
        "\n",
        "Você é um treinador de corrida e deseja calcular a velocidade média que um atleta precisa manter para completar a Maratona Internacional de São Silvestre, que tem uma distância total de 42.195 km. A fórmula para calcular a velocidade média ($v\\_media$) é dada por $v\\_media = \\frac{distancia}{tempo}$ . Escreva um programa em Python para calcular a velocidade média necessária para completar a maratona em 3 horas.\n",
        "\n",
        "**Calcule e imprima o resultado em metros/segundo**, ou seja, converta a distância de quilômetros para metros ($metro = \\frac{km}{1000}$) e a velocidade de horas para segundos $(segundo = \\frac{hora}{3600})$."
      ],
      "metadata": {
        "id": "-Na3ltDCp74A"
      }
    },
    {
      "cell_type": "code",
      "source": [
        "velocidade_media = 42195 / (3 * 3600)\n",
        "print(velocidade_media)"
      ],
      "metadata": {
        "id": "Bn6l8kcSrE4L",
        "colab": {
          "base_uri": "https://localhost:8080/"
        },
        "outputId": "af4e0f7d-a25e-4590-e840-c9db4a20a79f"
      },
      "execution_count": 4,
      "outputs": [
        {
          "output_type": "stream",
          "name": "stdout",
          "text": [
            "3.9069444444444446\n"
          ]
        }
      ]
    }
  ]
}